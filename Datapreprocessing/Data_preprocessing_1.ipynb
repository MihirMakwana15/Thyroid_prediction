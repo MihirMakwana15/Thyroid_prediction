{
 "cells": [
  {
   "cell_type": "code",
   "execution_count": 1,
   "id": "9f976711",
   "metadata": {},
   "outputs": [],
   "source": [
    "import pandas as pd\n",
    "import logging"
   ]
  },
  {
   "cell_type": "code",
   "execution_count": 2,
   "id": "a283ad5a",
   "metadata": {},
   "outputs": [],
   "source": [
    "logging.basicConfig(filename=\"Data_proprocessing _part_1.log\", level=logging.INFO, format='%(asctime)s %(message)s',\n",
    "\t\t\t\t\tdatefmt=\"%Y-%m-%d %H:%M:%S\") "
   ]
  },
  {
   "cell_type": "code",
   "execution_count": 4,
   "id": "798823da",
   "metadata": {},
   "outputs": [],
   "source": [
    "logging.info(\"Reading Dataset......\")"
   ]
  },
  {
   "cell_type": "code",
   "execution_count": 5,
   "id": "a4478b04",
   "metadata": {},
   "outputs": [],
   "source": [
    "df=pd.read_csv(\"data.data\")"
   ]
  },
  {
   "cell_type": "code",
   "execution_count": 6,
   "id": "ca29b555",
   "metadata": {},
   "outputs": [],
   "source": [
    "logging.info(\"Read Data successfully.\")"
   ]
  },
  {
   "cell_type": "code",
   "execution_count": 9,
   "id": "1108b8a1",
   "metadata": {},
   "outputs": [],
   "source": [
    "#Saving the first character in a new column .Because thats what matter for this problem statemen.\n",
    "logging.info(\"Data preprocessing part 1 started........\")\n",
    "df[\"outcome\"]=df[\"-[840801013]\"].str[0]\n",
    "df.drop(columns=\"-[840801013]\",inplace=True)\n",
    "logging.info(\"Extrated valuable information from the target variable. \")"
   ]
  },
  {
   "cell_type": "code",
   "execution_count": 10,
   "id": "64a71b2c",
   "metadata": {},
   "outputs": [],
   "source": [
    "#Replacing all possible disease outcomes into one category -\"yes\"\n",
    "list=['S','F', 'A', 'R', 'I', 'M', 'N', 'G', 'K', 'L', 'Q', 'J',\n",
    "       'C', 'O', 'H', 'D', 'P', 'B', 'E']\n",
    "df['outcome'].replace(to_replace=list,value=\"yes\",inplace=True)\n",
    "logging.info(\"Replaced all thyroidal diseases into one category.\")"
   ]
  },
  {
   "cell_type": "code",
   "execution_count": 11,
   "id": "78d7bcba",
   "metadata": {},
   "outputs": [],
   "source": [
    "#Replacing the binary outputs into integer values 0 and 1 for simplicity.\n",
    "df.outcome.replace({\"-\":0,\"yes\":1},inplace=True)\n",
    "logging.info(\"Classified the target features into 0 and 1.\")"
   ]
  },
  {
   "cell_type": "code",
   "execution_count": 12,
   "id": "e3ef2917",
   "metadata": {},
   "outputs": [],
   "source": [
    "#here I replace the column names with more simple and understandable form.\n",
    "df.rename(columns={\"29\":\"Age\",\"F\":\"Sex\", \"f\":\"thyroxine\", \"f.1\":\"query_thyroxine\", \"f.2\":\"medication\",\"f.3\":\"sick\", \n",
    "                        \"f.4\":\"pregnant\", \"f.5\":\"surgery\", \"f.6\":\"I131_treatment\", \"t\":\"query_hypothyroid\", \n",
    "                        \"f.7\":\"query_hyperthyroid\", \"f.8\":\"lithium\", \"f.9\":\"goitre\", \"f.10\":\"tumor\", \"f.11\":\"hypopituitary\", \n",
    "                        \"f.12\":\"psych\", \"t.1\":\"TSH_measured\",\"0.3\":\"TSH\", \"f.13\":\"T3_measured\", \"?\":\"T3\", \n",
    "                        \"f.14\":\"TT4_measured\", \"?.1\":\"TT4\", \"f.15\":\"T4U_measured\", \"?.2\":\"T4U\", \"f.16\":\"FTI_measured\", \n",
    "                        \"?.3\":\"FTI\", \"f.17\":\"TBG_measured\", \"?.4\":\"TBG\", \"other\":\"referral_source\"}, inplace=True)\n",
    "logging.info(\"Renamed all features into understandable form.\")"
   ]
  },
  {
   "cell_type": "code",
   "execution_count": 14,
   "id": "b38b2129",
   "metadata": {},
   "outputs": [],
   "source": [
    "logging.info(\"Saving the processed data......\")\n",
    "df.to_csv(\"data_processed_1.csv\",index=False)\n",
    "logging.info(\"Successfully saved the data in a csv file.\")\n",
    "logging.info(\"Data Preprocessing part 1 complete.\")"
   ]
  }
 ],
 "metadata": {
  "kernelspec": {
   "display_name": "Python 3 (ipykernel)",
   "language": "python",
   "name": "python3"
  },
  "language_info": {
   "codemirror_mode": {
    "name": "ipython",
    "version": 3
   },
   "file_extension": ".py",
   "mimetype": "text/x-python",
   "name": "python",
   "nbconvert_exporter": "python",
   "pygments_lexer": "ipython3",
   "version": "3.10.9"
  }
 },
 "nbformat": 4,
 "nbformat_minor": 5
}
