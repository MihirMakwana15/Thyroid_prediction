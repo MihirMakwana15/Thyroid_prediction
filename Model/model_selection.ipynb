{
 "cells": [
  {
   "cell_type": "code",
   "execution_count": 4,
   "id": "4e20dce6",
   "metadata": {},
   "outputs": [],
   "source": [
    "import pandas as pd\n",
    "from sklearn.pipeline import Pipeline\n",
    "from sklearn.linear_model import LogisticRegression\n",
    "from sklearn.ensemble import RandomForestClassifier\n",
    "from sklearn.tree import DecisionTreeClassifier\n",
    "from xgboost import XGBClassifier\n",
    "from sklearn.neighbors import KNeighborsClassifier\n",
    "from sklearn.svm import SVC\n",
    "from sklearn.preprocessing import MinMaxScaler\n",
    "from sklearn.metrics import accuracy_score, recall_score\n",
    "from tensorflow import keras\n",
    "from tensorflow.keras import layers\n",
    "import logging"
   ]
  },
  {
   "cell_type": "code",
   "execution_count": 5,
   "id": "08b03891",
   "metadata": {},
   "outputs": [],
   "source": [
    "logging.basicConfig(filename=\"Model_selection.log\", level=logging.INFO, format='%(asctime)s %(message)s',\n",
    "\t\t\t\t\tdatefmt=\"%Y-%m-%d %H:%M:%S\")"
   ]
  },
  {
   "cell_type": "code",
   "execution_count": 7,
   "id": "6ba159a5",
   "metadata": {},
   "outputs": [],
   "source": [
    "logging.info(\"Reading training dataset.........\")\n",
    "x_train =  pd.read_csv(\"x_train.csv\")\n",
    "y_train =  pd.read_csv(\"y_train.csv\")\n",
    "logging.info(\"Read the training data successfully.\")"
   ]
  },
  {
   "cell_type": "code",
   "execution_count": 8,
   "id": "32e36d73",
   "metadata": {},
   "outputs": [],
   "source": [
    "logging.info(\"Reading testing dataset........\")\n",
    "x_test =  pd.read_csv(\"x_test.csv\")\n",
    "y_test =  pd.read_csv(\"y_test.csv\")\n",
    "logging.info(\"Read the testing data successfully.\")\n"
   ]
  },
  {
   "cell_type": "code",
   "execution_count": 9,
   "id": "e33cd1a4",
   "metadata": {},
   "outputs": [],
   "source": [
    "logging.info(\"Reading validation dataset........\")\n",
    "x_valid =  pd.read_csv(\"x_valid.csv\")\n",
    "y_valid =  pd.read_csv(\"y_valid.csv\")\n",
    "logging.info(\"Read the validation data successfully.\")"
   ]
  },
  {
   "cell_type": "code",
   "execution_count": 10,
   "id": "fdef83fa",
   "metadata": {},
   "outputs": [],
   "source": [
    "logging.info(\"Creating the pipelines.....\")"
   ]
  },
  {
   "cell_type": "code",
   "execution_count": 11,
   "id": "2e0e9b27",
   "metadata": {},
   "outputs": [],
   "source": [
    "# Creating pipelies.\n",
    "pipe1 = Pipeline([(\"minmax_scalar\", MinMaxScaler()), (\"logistic_regression\", LogisticRegression())])"
   ]
  },
  {
   "cell_type": "code",
   "execution_count": 12,
   "id": "9d499c8c",
   "metadata": {},
   "outputs": [],
   "source": [
    "pipe2 = Pipeline([(\"minmax_scalar\", MinMaxScaler()), (\"KNN\", KNeighborsClassifier())])"
   ]
  },
  {
   "cell_type": "code",
   "execution_count": 13,
   "id": "ab8c9c1d",
   "metadata": {},
   "outputs": [],
   "source": [
    "pipe3 = Pipeline([(\"minmax_scalar\", MinMaxScaler()), (\"svm\", SVC())])"
   ]
  },
  {
   "cell_type": "code",
   "execution_count": 14,
   "id": "834a5d36",
   "metadata": {},
   "outputs": [],
   "source": [
    "pipe4 = Pipeline([(\"minmax_scalar\", MinMaxScaler()), (\"XGboost\", XGBClassifier())])"
   ]
  },
  {
   "cell_type": "code",
   "execution_count": 15,
   "id": "71e35283",
   "metadata": {},
   "outputs": [],
   "source": [
    "pipe5 = Pipeline([(\"minmax_scalar\", MinMaxScaler()), (\"decision_tree\", DecisionTreeClassifier())])"
   ]
  },
  {
   "cell_type": "code",
   "execution_count": 16,
   "id": "7a6388b3",
   "metadata": {},
   "outputs": [],
   "source": [
    "pipe6 = Pipeline([(\"minmax_scalar\", MinMaxScaler()), (\"random_forest\", RandomForestClassifier())])\n",
    "logging.info(\"Pipelines created.\")"
   ]
  },
  {
   "cell_type": "code",
   "execution_count": 17,
   "id": "35efffe8",
   "metadata": {},
   "outputs": [],
   "source": [
    "logging.info(\"Builiding an ANN model....\")\n",
    "def build_ann():\n",
    "    \n",
    "    model = keras.Sequential([\n",
    "    layers.Dense(64, activation='relu', input_shape=[54]),\n",
    "    layers.Dense(128, activation='relu'),\n",
    "    layers.Dense(1, activation='sigmoid')])\n",
    "    \n",
    "    model.compile(\n",
    "    optimizer=\"adam\",\n",
    "    loss=\"binary_crossentropy\",\n",
    "    metrics=[\"binary_accuracy\"])\n",
    "    \n",
    "    return model"
   ]
  },
  {
   "cell_type": "code",
   "execution_count": 18,
   "id": "6884718d",
   "metadata": {},
   "outputs": [],
   "source": [
    "ann_model = build_ann()\n",
    "logging.info(\"ANN built and compiled.\")"
   ]
  },
  {
   "cell_type": "code",
   "execution_count": 19,
   "id": "55460eba",
   "metadata": {},
   "outputs": [],
   "source": [
    "logging.info(\"Fitting the pipelines and ANN\")\n",
    "# Fitting the pipelines\n",
    "pipelines = [pipe1, pipe2, pipe3, pipe4, pipe5, pipe6]"
   ]
  },
  {
   "cell_type": "code",
   "execution_count": 20,
   "id": "47f59e37",
   "metadata": {},
   "outputs": [
    {
     "name": "stderr",
     "output_type": "stream",
     "text": [
      "C:\\Users\\Mihir15\\anaconda3\\lib\\site-packages\\sklearn\\utils\\validation.py:1143: DataConversionWarning: A column-vector y was passed when a 1d array was expected. Please change the shape of y to (n_samples, ), for example using ravel().\n",
      "  y = column_or_1d(y, warn=True)\n",
      "C:\\Users\\Mihir15\\anaconda3\\lib\\site-packages\\sklearn\\linear_model\\_logistic.py:458: ConvergenceWarning: lbfgs failed to converge (status=1):\n",
      "STOP: TOTAL NO. of ITERATIONS REACHED LIMIT.\n",
      "\n",
      "Increase the number of iterations (max_iter) or scale the data as shown in:\n",
      "    https://scikit-learn.org/stable/modules/preprocessing.html\n",
      "Please also refer to the documentation for alternative solver options:\n",
      "    https://scikit-learn.org/stable/modules/linear_model.html#logistic-regression\n",
      "  n_iter_i = _check_optimize_result(\n",
      "C:\\Users\\Mihir15\\anaconda3\\lib\\site-packages\\sklearn\\neighbors\\_classification.py:215: DataConversionWarning: A column-vector y was passed when a 1d array was expected. Please change the shape of y to (n_samples,), for example using ravel().\n",
      "  return self._fit(X, y)\n",
      "C:\\Users\\Mihir15\\anaconda3\\lib\\site-packages\\sklearn\\utils\\validation.py:1143: DataConversionWarning: A column-vector y was passed when a 1d array was expected. Please change the shape of y to (n_samples, ), for example using ravel().\n",
      "  y = column_or_1d(y, warn=True)\n",
      "C:\\Users\\Mihir15\\anaconda3\\lib\\site-packages\\sklearn\\pipeline.py:405: DataConversionWarning: A column-vector y was passed when a 1d array was expected. Please change the shape of y to (n_samples,), for example using ravel().\n",
      "  self._final_estimator.fit(Xt, y, **fit_params_last_step)\n"
     ]
    }
   ],
   "source": [
    "for pipe in pipelines:\n",
    "    pipe.fit(x_train, y_train)\n",
    "logging.info(\"All the pipelines fitted.\") "
   ]
  },
  {
   "cell_type": "code",
   "execution_count": 21,
   "id": "ef4040bd",
   "metadata": {},
   "outputs": [],
   "source": [
    "callback = keras.callbacks.EarlyStopping(monitor = \"val_binary_accuracy\", patience=3, restore_best_weights=True)"
   ]
  },
  {
   "cell_type": "code",
   "execution_count": 22,
   "id": "0663c3a0",
   "metadata": {},
   "outputs": [
    {
     "name": "stdout",
     "output_type": "stream",
     "text": [
      "Epoch 1/100\n",
      "270/270 [==============================] - 1s 2ms/step - loss: 0.6563 - binary_accuracy: 0.6570 - val_loss: 0.5015 - val_binary_accuracy: 0.7873\n",
      "Epoch 2/100\n",
      "270/270 [==============================] - 0s 2ms/step - loss: 0.5372 - binary_accuracy: 0.7421 - val_loss: 0.5296 - val_binary_accuracy: 0.7349\n",
      "Epoch 3/100\n",
      "270/270 [==============================] - 0s 2ms/step - loss: 0.5118 - binary_accuracy: 0.7630 - val_loss: 0.4889 - val_binary_accuracy: 0.7689\n",
      "Epoch 4/100\n",
      "270/270 [==============================] - 0s 2ms/step - loss: 0.5093 - binary_accuracy: 0.7672 - val_loss: 0.4310 - val_binary_accuracy: 0.8185\n",
      "Epoch 5/100\n",
      "270/270 [==============================] - 0s 2ms/step - loss: 0.4586 - binary_accuracy: 0.7939 - val_loss: 0.4193 - val_binary_accuracy: 0.8138\n",
      "Epoch 6/100\n",
      "270/270 [==============================] - 0s 2ms/step - loss: 0.4547 - binary_accuracy: 0.7950 - val_loss: 0.6152 - val_binary_accuracy: 0.6914\n",
      "Epoch 7/100\n",
      "270/270 [==============================] - 0s 2ms/step - loss: 0.4582 - binary_accuracy: 0.7933 - val_loss: 0.4535 - val_binary_accuracy: 0.7996\n"
     ]
    }
   ],
   "source": [
    "history = ann_model.fit(\n",
    "    x_train, y_train,\n",
    "    validation_data=(x_test, y_test),\n",
    "    batch_size=32,\n",
    "    epochs=100, \n",
    "    callbacks = [callback])\n",
    "logging.info(\"ANN trained and validated\")"
   ]
  },
  {
   "cell_type": "code",
   "execution_count": 23,
   "id": "2a3d83c8",
   "metadata": {},
   "outputs": [],
   "source": [
    "logging.info(\"Predicting on validation data\")\n",
    "# Predicting\n",
    "pred1 = pipe1.predict(x_valid)\n",
    "pred2 = pipe2.predict(x_valid)\n",
    "pred3 = pipe3.predict(x_valid)\n",
    "pred4 = pipe4.predict(x_valid)\n",
    "pred5 = pipe5.predict(x_valid)\n",
    "pred6 = pipe6.predict(x_valid)\n",
    "logging.info(\"Prediction done.\")"
   ]
  },
  {
   "cell_type": "code",
   "execution_count": 24,
   "id": "df93347d",
   "metadata": {},
   "outputs": [],
   "source": [
    "logging.info(\"Displaying the performance metrics of all the model.......\")\n",
    "# Comparing the result of each pipeline and selecting the best pipeline. \n",
    "logging.info(\"Accuracy of Logistic_Regression {}\" .format(round(accuracy_score(y_valid, pred1)*100, 2)))\n",
    "logging.info(\"Recall of Logistic_Regression {}\" .format(round(recall_score(y_valid, pred1),2)))\n",
    "logging.info(\"===================================================================\")\n",
    "logging.info(\"Accuracy of KNN {}\" .format(round(accuracy_score(y_valid, pred2)*100, 2)))\n",
    "logging.info(\"Recall of KNN {}\" .format(round(recall_score(y_valid, pred2),2)))\n",
    "logging.info(\"===================================================================\")\n",
    "logging.info(\"Accuracy of SVC {}\" .format(round(accuracy_score(y_valid, pred3)*100,2)))\n",
    "logging.info(\"Recall of SVC {}\" .format(round(recall_score(y_valid, pred3),2)))\n",
    "logging.info(\"===================================================================\")\n",
    "logging.info(\"Accuracy of xgboost {}\" .format(round(accuracy_score(y_valid, pred4)*100,2)))\n",
    "logging.info(\"Recall of xgboost {}\" .format(round(recall_score(y_valid, pred4),2)))\n",
    "logging.info(\"===================================================================\")\n",
    "logging.info(\"Accuracy of decision_tree {}\" .format(round(accuracy_score(y_valid, pred5)*100,2)))\n",
    "logging.info(\"Recall of decision_tree {}\" .format(round(recall_score(y_valid, pred5),2)))\n",
    "logging.info(\"===================================================================\")\n",
    "logging.info(\"Accuracy of Random_forest {}\" .format(round(accuracy_score(y_valid, pred6)*100,2)))\n",
    "logging.info(\"Recall of Random_forest {}\" .format(round(recall_score(y_valid, pred6),2)))\n",
    "logging.info(\"Select the best performing model and Model Selection phase is completed.\")"
   ]
  }
 ],
 "metadata": {
  "kernelspec": {
   "display_name": "Python 3 (ipykernel)",
   "language": "python",
   "name": "python3"
  },
  "language_info": {
   "codemirror_mode": {
    "name": "ipython",
    "version": 3
   },
   "file_extension": ".py",
   "mimetype": "text/x-python",
   "name": "python",
   "nbconvert_exporter": "python",
   "pygments_lexer": "ipython3",
   "version": "3.10.9"
  }
 },
 "nbformat": 4,
 "nbformat_minor": 5
}
